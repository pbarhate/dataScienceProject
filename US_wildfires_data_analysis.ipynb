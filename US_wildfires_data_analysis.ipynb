{
  "nbformat": 4,
  "nbformat_minor": 0,
  "metadata": {
    "colab": {
      "name": "US_wildfires_data_analysis.ipynb",
      "provenance": []
    },
    "kernelspec": {
      "name": "python3",
      "display_name": "Python 3"
    },
    "language_info": {
      "name": "python"
    }
  },
  "cells": [
    {
      "cell_type": "markdown",
      "metadata": {
        "id": "5GWYLbEgLxLd"
      },
      "source": [
        "# Analysing factors affecting size class of fire"
      ]
    },
    {
      "cell_type": "markdown",
      "metadata": {
        "id": "7FZNaoVxL7ka"
      },
      "source": [
        "##### Import necessary packages"
      ]
    },
    {
      "cell_type": "code",
      "metadata": {
        "id": "25hskFScMC0j",
        "colab": {
          "base_uri": "https://localhost:8080/"
        },
        "outputId": "7f2e1400-452d-407f-842e-f4feb0db4e1d"
      },
      "source": [
        "import pandas as pd\n",
        "import numpy as np\n",
        "from numpy import arange\n",
        "import datetime\n",
        "import matplotlib.pyplot as plt\n",
        "import seaborn as sns\n",
        "from sklearn.model_selection import train_test_split, KFold, cross_val_score, GridSearchCV\n",
        "from imblearn.under_sampling import RandomUnderSampler\n",
        "from sklearn.preprocessing import StandardScaler, MinMaxScaler\n",
        "from sklearn.neighbors import KNeighborsClassifier\n",
        "from sklearn.naive_bayes import GaussianNB\n",
        "from sklearn.ensemble import RandomForestClassifier\n",
        "from sklearn.metrics import classification_report, confusion_matrix, accuracy_score\n",
        "from sklearn.tree import DecisionTreeClassifier\n",
        "from sklearn.svm import SVC\n",
        "from mpl_toolkits.mplot3d import Axes3D\n",
        "# !pip install ReliefF\n",
        "# from ReliefF import ReliefF\n",
        "!pip install sklearn-relief\n",
        "import sklearn_relief as relief"
      ],
      "execution_count": 1,
      "outputs": [
        {
          "output_type": "stream",
          "text": [
            "/usr/local/lib/python3.7/dist-packages/sklearn/externals/six.py:31: FutureWarning: The module is deprecated in version 0.21 and will be removed in version 0.23 since we've dropped support for Python 2.7. Please rely on the official version of six (https://pypi.org/project/six/).\n",
            "  \"(https://pypi.org/project/six/).\", FutureWarning)\n",
            "/usr/local/lib/python3.7/dist-packages/sklearn/utils/deprecation.py:144: FutureWarning: The sklearn.neighbors.base module is  deprecated in version 0.22 and will be removed in version 0.24. The corresponding classes / functions should instead be imported from sklearn.neighbors. Anything that cannot be imported from sklearn.neighbors is now part of the private API.\n",
            "  warnings.warn(message, FutureWarning)\n"
          ],
          "name": "stderr"
        },
        {
          "output_type": "stream",
          "text": [
            "Collecting sklearn-relief\n",
            "  Downloading sklearn_relief-1.0.0b2-py3-none-any.whl (8.7 kB)\n",
            "Requirement already satisfied: scikit-learn>=0.19.1 in /usr/local/lib/python3.7/dist-packages (from sklearn-relief) (0.22.2.post1)\n",
            "Requirement already satisfied: numpy>=1.13.3 in /usr/local/lib/python3.7/dist-packages (from sklearn-relief) (1.19.5)\n",
            "Requirement already satisfied: scipy>=1.0.0 in /usr/local/lib/python3.7/dist-packages (from sklearn-relief) (1.4.1)\n",
            "Requirement already satisfied: joblib>=0.11 in /usr/local/lib/python3.7/dist-packages (from scikit-learn>=0.19.1->sklearn-relief) (1.0.1)\n",
            "Installing collected packages: sklearn-relief\n",
            "Successfully installed sklearn-relief-1.0.0b2\n"
          ],
          "name": "stdout"
        }
      ]
    },
    {
      "cell_type": "code",
      "metadata": {
        "colab": {
          "base_uri": "https://localhost:8080/",
          "height": 309
        },
        "id": "r5Wy-qR-MbRq",
        "outputId": "fd7e60b3-b3a8-40f1-b080-74edc7c345e6"
      },
      "source": [
        "# read the data from CSV file\n",
        "us_wildfire = pd.read_csv(\"/content/drive/MyDrive/Colab Notebooks/data/FW_Veg_Rem_Combined.csv\")\n",
        "us_wildfire.head()"
      ],
      "execution_count": 15,
      "outputs": [
        {
          "output_type": "execute_result",
          "data": {
            "text/html": [
              "<div>\n",
              "<style scoped>\n",
              "    .dataframe tbody tr th:only-of-type {\n",
              "        vertical-align: middle;\n",
              "    }\n",
              "\n",
              "    .dataframe tbody tr th {\n",
              "        vertical-align: top;\n",
              "    }\n",
              "\n",
              "    .dataframe thead th {\n",
              "        text-align: right;\n",
              "    }\n",
              "</style>\n",
              "<table border=\"1\" class=\"dataframe\">\n",
              "  <thead>\n",
              "    <tr style=\"text-align: right;\">\n",
              "      <th></th>\n",
              "      <th>Unnamed: 0</th>\n",
              "      <th>Unnamed: 0.1</th>\n",
              "      <th>fire_name</th>\n",
              "      <th>fire_size</th>\n",
              "      <th>fire_size_class</th>\n",
              "      <th>stat_cause_descr</th>\n",
              "      <th>latitude</th>\n",
              "      <th>longitude</th>\n",
              "      <th>state</th>\n",
              "      <th>disc_clean_date</th>\n",
              "      <th>cont_clean_date</th>\n",
              "      <th>discovery_month</th>\n",
              "      <th>disc_date_final</th>\n",
              "      <th>cont_date_final</th>\n",
              "      <th>putout_time</th>\n",
              "      <th>disc_date_pre</th>\n",
              "      <th>disc_pre_year</th>\n",
              "      <th>disc_pre_month</th>\n",
              "      <th>wstation_usaf</th>\n",
              "      <th>dstation_m</th>\n",
              "      <th>wstation_wban</th>\n",
              "      <th>wstation_byear</th>\n",
              "      <th>wstation_eyear</th>\n",
              "      <th>Vegetation</th>\n",
              "      <th>fire_mag</th>\n",
              "      <th>weather_file</th>\n",
              "      <th>Temp_pre_30</th>\n",
              "      <th>Temp_pre_15</th>\n",
              "      <th>Temp_pre_7</th>\n",
              "      <th>Temp_cont</th>\n",
              "      <th>Wind_pre_30</th>\n",
              "      <th>Wind_pre_15</th>\n",
              "      <th>Wind_pre_7</th>\n",
              "      <th>Wind_cont</th>\n",
              "      <th>Hum_pre_30</th>\n",
              "      <th>Hum_pre_15</th>\n",
              "      <th>Hum_pre_7</th>\n",
              "      <th>Hum_cont</th>\n",
              "      <th>Prec_pre_30</th>\n",
              "      <th>Prec_pre_15</th>\n",
              "      <th>Prec_pre_7</th>\n",
              "      <th>Prec_cont</th>\n",
              "      <th>remoteness</th>\n",
              "    </tr>\n",
              "  </thead>\n",
              "  <tbody>\n",
              "    <tr>\n",
              "      <th>0</th>\n",
              "      <td>0</td>\n",
              "      <td>0</td>\n",
              "      <td>NaN</td>\n",
              "      <td>10.0</td>\n",
              "      <td>C</td>\n",
              "      <td>Missing/Undefined</td>\n",
              "      <td>18.105072</td>\n",
              "      <td>-66.753044</td>\n",
              "      <td>PR</td>\n",
              "      <td>2/11/2007</td>\n",
              "      <td>NaN</td>\n",
              "      <td>Feb</td>\n",
              "      <td>NaN</td>\n",
              "      <td>NaN</td>\n",
              "      <td>NaN</td>\n",
              "      <td>1/12/2007</td>\n",
              "      <td>2007</td>\n",
              "      <td>Jan</td>\n",
              "      <td>785140</td>\n",
              "      <td>58917.69716</td>\n",
              "      <td>11603</td>\n",
              "      <td>1945</td>\n",
              "      <td>2018</td>\n",
              "      <td>12</td>\n",
              "      <td>1.0</td>\n",
              "      <td>785140-11603-2007.gz</td>\n",
              "      <td>24.480974</td>\n",
              "      <td>24.716923</td>\n",
              "      <td>24.902597</td>\n",
              "      <td>24.527961</td>\n",
              "      <td>4.341807</td>\n",
              "      <td>3.492857</td>\n",
              "      <td>3.262092</td>\n",
              "      <td>3.250413</td>\n",
              "      <td>78.216590</td>\n",
              "      <td>76.793750</td>\n",
              "      <td>76.381579</td>\n",
              "      <td>78.724370</td>\n",
              "      <td>0.0</td>\n",
              "      <td>0.0</td>\n",
              "      <td>0.0</td>\n",
              "      <td>0.0</td>\n",
              "      <td>0.017923</td>\n",
              "    </tr>\n",
              "    <tr>\n",
              "      <th>1</th>\n",
              "      <td>1</td>\n",
              "      <td>1</td>\n",
              "      <td>NaN</td>\n",
              "      <td>3.0</td>\n",
              "      <td>B</td>\n",
              "      <td>Arson</td>\n",
              "      <td>35.038330</td>\n",
              "      <td>-87.610000</td>\n",
              "      <td>TN</td>\n",
              "      <td>12/11/2006</td>\n",
              "      <td>NaN</td>\n",
              "      <td>Dec</td>\n",
              "      <td>NaN</td>\n",
              "      <td>NaN</td>\n",
              "      <td>NaN</td>\n",
              "      <td>11/11/2006</td>\n",
              "      <td>2006</td>\n",
              "      <td>Nov</td>\n",
              "      <td>723235</td>\n",
              "      <td>32665.34327</td>\n",
              "      <td>13896</td>\n",
              "      <td>1978</td>\n",
              "      <td>2020</td>\n",
              "      <td>15</td>\n",
              "      <td>0.1</td>\n",
              "      <td>723235-13896-2006.gz</td>\n",
              "      <td>7.553433</td>\n",
              "      <td>7.010000</td>\n",
              "      <td>0.343529</td>\n",
              "      <td>10.448298</td>\n",
              "      <td>2.709764</td>\n",
              "      <td>2.881707</td>\n",
              "      <td>1.976471</td>\n",
              "      <td>2.122320</td>\n",
              "      <td>70.840000</td>\n",
              "      <td>65.858911</td>\n",
              "      <td>55.505882</td>\n",
              "      <td>81.682678</td>\n",
              "      <td>59.8</td>\n",
              "      <td>8.4</td>\n",
              "      <td>0.0</td>\n",
              "      <td>86.8</td>\n",
              "      <td>0.184355</td>\n",
              "    </tr>\n",
              "    <tr>\n",
              "      <th>2</th>\n",
              "      <td>2</td>\n",
              "      <td>2</td>\n",
              "      <td>NaN</td>\n",
              "      <td>60.0</td>\n",
              "      <td>C</td>\n",
              "      <td>Arson</td>\n",
              "      <td>34.947800</td>\n",
              "      <td>-88.722500</td>\n",
              "      <td>MS</td>\n",
              "      <td>2/29/2004</td>\n",
              "      <td>NaN</td>\n",
              "      <td>Feb</td>\n",
              "      <td>NaN</td>\n",
              "      <td>NaN</td>\n",
              "      <td>NaN</td>\n",
              "      <td>1/30/2004</td>\n",
              "      <td>2004</td>\n",
              "      <td>Jan</td>\n",
              "      <td>723235</td>\n",
              "      <td>105122.14950</td>\n",
              "      <td>13896</td>\n",
              "      <td>1978</td>\n",
              "      <td>2020</td>\n",
              "      <td>16</td>\n",
              "      <td>1.0</td>\n",
              "      <td>723235-13896-2004.gz</td>\n",
              "      <td>4.971930</td>\n",
              "      <td>5.782766</td>\n",
              "      <td>5.558750</td>\n",
              "      <td>13.696600</td>\n",
              "      <td>3.364499</td>\n",
              "      <td>2.923830</td>\n",
              "      <td>2.695833</td>\n",
              "      <td>3.369050</td>\n",
              "      <td>75.531629</td>\n",
              "      <td>75.868613</td>\n",
              "      <td>76.812834</td>\n",
              "      <td>65.063800</td>\n",
              "      <td>168.8</td>\n",
              "      <td>42.2</td>\n",
              "      <td>18.1</td>\n",
              "      <td>124.5</td>\n",
              "      <td>0.194544</td>\n",
              "    </tr>\n",
              "    <tr>\n",
              "      <th>3</th>\n",
              "      <td>3</td>\n",
              "      <td>3</td>\n",
              "      <td>WNA  1</td>\n",
              "      <td>1.0</td>\n",
              "      <td>B</td>\n",
              "      <td>Debris Burning</td>\n",
              "      <td>39.641400</td>\n",
              "      <td>-119.308300</td>\n",
              "      <td>NV</td>\n",
              "      <td>6/6/2005</td>\n",
              "      <td>6/6/2005</td>\n",
              "      <td>Jun</td>\n",
              "      <td>6/6/2005 2:14</td>\n",
              "      <td>6/6/2005 18:00</td>\n",
              "      <td>0 days 00:00:00.000000000</td>\n",
              "      <td>5/7/2005</td>\n",
              "      <td>2005</td>\n",
              "      <td>May</td>\n",
              "      <td>724880</td>\n",
              "      <td>43433.32978</td>\n",
              "      <td>23185</td>\n",
              "      <td>1942</td>\n",
              "      <td>2020</td>\n",
              "      <td>0</td>\n",
              "      <td>0.1</td>\n",
              "      <td>724880-23185-2005.gz</td>\n",
              "      <td>16.275967</td>\n",
              "      <td>18.996181</td>\n",
              "      <td>18.142564</td>\n",
              "      <td>0.000000</td>\n",
              "      <td>4.054982</td>\n",
              "      <td>3.398329</td>\n",
              "      <td>3.671282</td>\n",
              "      <td>0.000000</td>\n",
              "      <td>44.778429</td>\n",
              "      <td>37.140811</td>\n",
              "      <td>35.353846</td>\n",
              "      <td>0.000000</td>\n",
              "      <td>10.4</td>\n",
              "      <td>7.2</td>\n",
              "      <td>0.0</td>\n",
              "      <td>0.0</td>\n",
              "      <td>0.487447</td>\n",
              "    </tr>\n",
              "    <tr>\n",
              "      <th>4</th>\n",
              "      <td>4</td>\n",
              "      <td>4</td>\n",
              "      <td>NaN</td>\n",
              "      <td>2.0</td>\n",
              "      <td>B</td>\n",
              "      <td>Miscellaneous</td>\n",
              "      <td>30.700600</td>\n",
              "      <td>-90.591400</td>\n",
              "      <td>LA</td>\n",
              "      <td>9/22/1999</td>\n",
              "      <td>NaN</td>\n",
              "      <td>Sep</td>\n",
              "      <td>NaN</td>\n",
              "      <td>NaN</td>\n",
              "      <td>NaN</td>\n",
              "      <td>8/23/1999</td>\n",
              "      <td>1999</td>\n",
              "      <td>Aug</td>\n",
              "      <td>722312</td>\n",
              "      <td>25940.57409</td>\n",
              "      <td>3908</td>\n",
              "      <td>1987</td>\n",
              "      <td>2016</td>\n",
              "      <td>12</td>\n",
              "      <td>0.1</td>\n",
              "      <td>File Not Found</td>\n",
              "      <td>-1.000000</td>\n",
              "      <td>-1.000000</td>\n",
              "      <td>-1.000000</td>\n",
              "      <td>-1.000000</td>\n",
              "      <td>-1.000000</td>\n",
              "      <td>-1.000000</td>\n",
              "      <td>-1.000000</td>\n",
              "      <td>-1.000000</td>\n",
              "      <td>-1.000000</td>\n",
              "      <td>-1.000000</td>\n",
              "      <td>-1.000000</td>\n",
              "      <td>-1.000000</td>\n",
              "      <td>-1.0</td>\n",
              "      <td>-1.0</td>\n",
              "      <td>-1.0</td>\n",
              "      <td>-1.0</td>\n",
              "      <td>0.214633</td>\n",
              "    </tr>\n",
              "  </tbody>\n",
              "</table>\n",
              "</div>"
            ],
            "text/plain": [
              "   Unnamed: 0  Unnamed: 0.1 fire_name  ...  Prec_pre_7 Prec_cont remoteness\n",
              "0           0             0       NaN  ...         0.0       0.0   0.017923\n",
              "1           1             1       NaN  ...         0.0      86.8   0.184355\n",
              "2           2             2       NaN  ...        18.1     124.5   0.194544\n",
              "3           3             3    WNA  1  ...         0.0       0.0   0.487447\n",
              "4           4             4       NaN  ...        -1.0      -1.0   0.214633\n",
              "\n",
              "[5 rows x 43 columns]"
            ]
          },
          "metadata": {
            "tags": []
          },
          "execution_count": 15
        }
      ]
    },
    {
      "cell_type": "code",
      "metadata": {
        "colab": {
          "base_uri": "https://localhost:8080/",
          "height": 343
        },
        "id": "k3g-2XRkM1aP",
        "outputId": "a9fc8820-4abf-49d3-a6ed-bfed30a27668"
      },
      "source": [
        "# Remove unnecessary columns from the dataset\n",
        "dropColumns = [\"Unnamed: 0\", \"Unnamed: 0.1\", \"fire_name\", \"state\", \"discovery_month\", \"disc_date_final\", \"disc_clean_date\",\n",
        "               \"cont_clean_date\", \"cont_date_final\", \"putout_time\", \"disc_date_pre\", \"disc_pre_year\", \"disc_pre_month\",\n",
        "               \"fire_mag\", \"wstation_usaf\", \"dstation_m\", \"wstation_wban\", \"wstation_byear\",\n",
        "               \"wstation_eyear\", \"weather_file\"]\n",
        "us_wildfire_clean = us_wildfire.drop(columns=dropColumns)\n",
        "# Add column fire_cause as numeric column\n",
        "\n",
        "cause_dict = {\"Arson\": 1, \"Campfire\": 2, \"Children\": 3, \"Debris Burning\": 4, \"Equipment Use\": 5, \n",
        "              \"Fireworks\": 6, \"Lightning\": 7, \"Miscellaneous\": 8, \"Missing/Undefined\": 9, \n",
        "              \"Powerline\": 10, \"Railroad\": 11, \"Smoking\": 12, \"Structure\": 13}\n",
        "\n",
        "us_wildfire_clean[\"Fire_cause\"] = us_wildfire_clean[\"stat_cause_descr\"].map(cause_dict).fillna(value=9)\n",
        "# Add new column for vegetation description\n",
        "veg_dict = {1: \"Tropical Evergreen Broadleaf Forest\", 2: \"Tropical Deciduous Broadleaf Forest\",\n",
        "            3: \"Temperate Evergreen Broadleaf Forest\", 4: \"Temperate Evergreen Needleleaf Forest\",\n",
        "            5: \"Temperate Deciduous Broadleaf Forest\", 6: \"Boreal Evergreen Needleleaf Forest\",\n",
        "            7: \"Boreal Deciduous Needleleaf Forest\", 8: \"Savanna\", 9: \"C3 Grassland/Steppe\",\n",
        "            10: \"C4 Grassland/Steppe\", 11: \"Dense Shrubland\", 12: \"Open Shrubland\", 13: \"Tundra Tundra\",\n",
        "            14: \"Desert\", 15: \"Polar Desert/Rock/Ice\", 16: \"Secondary Tropical Evergreen Broadleaf Forest\",\n",
        "            17: \"Secondary Tropical Deciduous Broadleaf Forest\", 18: \"Secondary Temperate Evergreen Broadleaf Forest\",\n",
        "            19: \"Secondary Temperate Evergreen Needleleaf Forest\"\n",
        "            }\n",
        "\n",
        "us_wildfire_clean[\"Veg_Descr\"] = us_wildfire_clean[\"Vegetation\"].map(veg_dict).fillna(value=\"Unknown\")\n",
        "\n",
        "# Convert temperature from Celcius to Fahrenheit\n",
        "us_wildfire_clean[\"Temp_pre_30\"] = (us_wildfire_clean[\"Temp_pre_30\"] * 9 / 5) + 32\n",
        "us_wildfire_clean[\"Temp_pre_15\"] = (us_wildfire_clean[\"Temp_pre_15\"] * 9 / 5) + 32\n",
        "us_wildfire_clean[\"Temp_pre_7\"] = (us_wildfire_clean[\"Temp_pre_7\"] * 9 / 5) + 32\n",
        "us_wildfire_clean[\"Temp_cont\"] = (us_wildfire_clean[\"Temp_cont\"] * 9 / 5) + 32\n",
        "\n",
        "us_wildfire_clean.head()"
      ],
      "execution_count": 16,
      "outputs": [
        {
          "output_type": "execute_result",
          "data": {
            "text/html": [
              "<div>\n",
              "<style scoped>\n",
              "    .dataframe tbody tr th:only-of-type {\n",
              "        vertical-align: middle;\n",
              "    }\n",
              "\n",
              "    .dataframe tbody tr th {\n",
              "        vertical-align: top;\n",
              "    }\n",
              "\n",
              "    .dataframe thead th {\n",
              "        text-align: right;\n",
              "    }\n",
              "</style>\n",
              "<table border=\"1\" class=\"dataframe\">\n",
              "  <thead>\n",
              "    <tr style=\"text-align: right;\">\n",
              "      <th></th>\n",
              "      <th>fire_size</th>\n",
              "      <th>fire_size_class</th>\n",
              "      <th>stat_cause_descr</th>\n",
              "      <th>latitude</th>\n",
              "      <th>longitude</th>\n",
              "      <th>Vegetation</th>\n",
              "      <th>Temp_pre_30</th>\n",
              "      <th>Temp_pre_15</th>\n",
              "      <th>Temp_pre_7</th>\n",
              "      <th>Temp_cont</th>\n",
              "      <th>Wind_pre_30</th>\n",
              "      <th>Wind_pre_15</th>\n",
              "      <th>Wind_pre_7</th>\n",
              "      <th>Wind_cont</th>\n",
              "      <th>Hum_pre_30</th>\n",
              "      <th>Hum_pre_15</th>\n",
              "      <th>Hum_pre_7</th>\n",
              "      <th>Hum_cont</th>\n",
              "      <th>Prec_pre_30</th>\n",
              "      <th>Prec_pre_15</th>\n",
              "      <th>Prec_pre_7</th>\n",
              "      <th>Prec_cont</th>\n",
              "      <th>remoteness</th>\n",
              "      <th>Fire_cause</th>\n",
              "      <th>Veg_Descr</th>\n",
              "    </tr>\n",
              "  </thead>\n",
              "  <tbody>\n",
              "    <tr>\n",
              "      <th>0</th>\n",
              "      <td>10.0</td>\n",
              "      <td>C</td>\n",
              "      <td>Missing/Undefined</td>\n",
              "      <td>18.105072</td>\n",
              "      <td>-66.753044</td>\n",
              "      <td>12</td>\n",
              "      <td>76.065753</td>\n",
              "      <td>76.490462</td>\n",
              "      <td>76.824675</td>\n",
              "      <td>76.150329</td>\n",
              "      <td>4.341807</td>\n",
              "      <td>3.492857</td>\n",
              "      <td>3.262092</td>\n",
              "      <td>3.250413</td>\n",
              "      <td>78.216590</td>\n",
              "      <td>76.793750</td>\n",
              "      <td>76.381579</td>\n",
              "      <td>78.724370</td>\n",
              "      <td>0.0</td>\n",
              "      <td>0.0</td>\n",
              "      <td>0.0</td>\n",
              "      <td>0.0</td>\n",
              "      <td>0.017923</td>\n",
              "      <td>9</td>\n",
              "      <td>Open Shrubland</td>\n",
              "    </tr>\n",
              "    <tr>\n",
              "      <th>1</th>\n",
              "      <td>3.0</td>\n",
              "      <td>B</td>\n",
              "      <td>Arson</td>\n",
              "      <td>35.038330</td>\n",
              "      <td>-87.610000</td>\n",
              "      <td>15</td>\n",
              "      <td>45.596180</td>\n",
              "      <td>44.618000</td>\n",
              "      <td>32.618353</td>\n",
              "      <td>50.806936</td>\n",
              "      <td>2.709764</td>\n",
              "      <td>2.881707</td>\n",
              "      <td>1.976471</td>\n",
              "      <td>2.122320</td>\n",
              "      <td>70.840000</td>\n",
              "      <td>65.858911</td>\n",
              "      <td>55.505882</td>\n",
              "      <td>81.682678</td>\n",
              "      <td>59.8</td>\n",
              "      <td>8.4</td>\n",
              "      <td>0.0</td>\n",
              "      <td>86.8</td>\n",
              "      <td>0.184355</td>\n",
              "      <td>1</td>\n",
              "      <td>Polar Desert/Rock/Ice</td>\n",
              "    </tr>\n",
              "    <tr>\n",
              "      <th>2</th>\n",
              "      <td>60.0</td>\n",
              "      <td>C</td>\n",
              "      <td>Arson</td>\n",
              "      <td>34.947800</td>\n",
              "      <td>-88.722500</td>\n",
              "      <td>16</td>\n",
              "      <td>40.949474</td>\n",
              "      <td>42.408979</td>\n",
              "      <td>42.005750</td>\n",
              "      <td>56.653880</td>\n",
              "      <td>3.364499</td>\n",
              "      <td>2.923830</td>\n",
              "      <td>2.695833</td>\n",
              "      <td>3.369050</td>\n",
              "      <td>75.531629</td>\n",
              "      <td>75.868613</td>\n",
              "      <td>76.812834</td>\n",
              "      <td>65.063800</td>\n",
              "      <td>168.8</td>\n",
              "      <td>42.2</td>\n",
              "      <td>18.1</td>\n",
              "      <td>124.5</td>\n",
              "      <td>0.194544</td>\n",
              "      <td>1</td>\n",
              "      <td>Secondary Tropical Evergreen Broadleaf Forest</td>\n",
              "    </tr>\n",
              "    <tr>\n",
              "      <th>3</th>\n",
              "      <td>1.0</td>\n",
              "      <td>B</td>\n",
              "      <td>Debris Burning</td>\n",
              "      <td>39.641400</td>\n",
              "      <td>-119.308300</td>\n",
              "      <td>0</td>\n",
              "      <td>61.296741</td>\n",
              "      <td>66.193126</td>\n",
              "      <td>64.656615</td>\n",
              "      <td>32.000000</td>\n",
              "      <td>4.054982</td>\n",
              "      <td>3.398329</td>\n",
              "      <td>3.671282</td>\n",
              "      <td>0.000000</td>\n",
              "      <td>44.778429</td>\n",
              "      <td>37.140811</td>\n",
              "      <td>35.353846</td>\n",
              "      <td>0.000000</td>\n",
              "      <td>10.4</td>\n",
              "      <td>7.2</td>\n",
              "      <td>0.0</td>\n",
              "      <td>0.0</td>\n",
              "      <td>0.487447</td>\n",
              "      <td>4</td>\n",
              "      <td>Unknown</td>\n",
              "    </tr>\n",
              "    <tr>\n",
              "      <th>4</th>\n",
              "      <td>2.0</td>\n",
              "      <td>B</td>\n",
              "      <td>Miscellaneous</td>\n",
              "      <td>30.700600</td>\n",
              "      <td>-90.591400</td>\n",
              "      <td>12</td>\n",
              "      <td>30.200000</td>\n",
              "      <td>30.200000</td>\n",
              "      <td>30.200000</td>\n",
              "      <td>30.200000</td>\n",
              "      <td>-1.000000</td>\n",
              "      <td>-1.000000</td>\n",
              "      <td>-1.000000</td>\n",
              "      <td>-1.000000</td>\n",
              "      <td>-1.000000</td>\n",
              "      <td>-1.000000</td>\n",
              "      <td>-1.000000</td>\n",
              "      <td>-1.000000</td>\n",
              "      <td>-1.0</td>\n",
              "      <td>-1.0</td>\n",
              "      <td>-1.0</td>\n",
              "      <td>-1.0</td>\n",
              "      <td>0.214633</td>\n",
              "      <td>8</td>\n",
              "      <td>Open Shrubland</td>\n",
              "    </tr>\n",
              "  </tbody>\n",
              "</table>\n",
              "</div>"
            ],
            "text/plain": [
              "   fire_size  ...                                      Veg_Descr\n",
              "0       10.0  ...                                 Open Shrubland\n",
              "1        3.0  ...                          Polar Desert/Rock/Ice\n",
              "2       60.0  ...  Secondary Tropical Evergreen Broadleaf Forest\n",
              "3        1.0  ...                                        Unknown\n",
              "4        2.0  ...                                 Open Shrubland\n",
              "\n",
              "[5 rows x 25 columns]"
            ]
          },
          "metadata": {
            "tags": []
          },
          "execution_count": 16
        }
      ]
    },
    {
      "cell_type": "code",
      "metadata": {
        "colab": {
          "base_uri": "https://localhost:8080/",
          "height": 299
        },
        "id": "1NqAeUqMdXw8",
        "outputId": "1bffb8ee-2423-4e25-9210-4b1a4a8b619f"
      },
      "source": [
        "## Visualize data for fire size classes\n",
        "sns.countplot(data=us_wildfire_clean, x=\"fire_size_class\", hue=\"stat_cause_descr\",\n",
        "              order=us_wildfire_clean[\"fire_size_class\"].value_counts().index)"
      ],
      "execution_count": 4,
      "outputs": [
        {
          "output_type": "execute_result",
          "data": {
            "text/plain": [
              "<matplotlib.axes._subplots.AxesSubplot at 0x7fe688c36c50>"
            ]
          },
          "metadata": {
            "tags": []
          },
          "execution_count": 4
        },
        {
          "output_type": "display_data",
          "data": {
            "image/png": "[encoded data removed]",
            "text/plain": [
              "<Figure size 432x288 with 1 Axes>"
            ]
          },
          "metadata": {
            "tags": [],
            "needs_background": "light"
          }
        }
      ]
    },
    {
      "cell_type": "code",
      "metadata": {
        "colab": {
          "base_uri": "https://localhost:8080/",
          "height": 297
        },
        "id": "Cfm8SwK9BKVd",
        "outputId": "e32955b8-b204-49f2-ff14-055b2dd21888"
      },
      "source": [
        "## Visualize vegetation for class\n",
        "sns.countplot(data=us_wildfire_clean, x=\"fire_size_class\", hue=\"Veg_Descr\",\n",
        "              order=us_wildfire_clean[\"fire_size_class\"].value_counts().index)"
      ],
      "execution_count": 18,
      "outputs": [
        {
          "output_type": "execute_result",
          "data": {
            "text/plain": [
              "<matplotlib.axes._subplots.AxesSubplot at 0x7fe685d70e90>"
            ]
          },
          "metadata": {
            "tags": []
          },
          "execution_count": 18
        },
        {
          "output_type": "display_data",
          "data": {
            "image/png": "[encoded data removed]",
            "text/plain": [
              "<Figure size 432x288 with 1 Axes>"
            ]
          },
          "metadata": {
            "tags": [],
            "needs_background": "light"
          }
        }
      ]
    },
    {
      "cell_type": "code",
      "metadata": {
        "colab": {
          "base_uri": "https://localhost:8080/",
          "height": 266
        },
        "id": "qtQuNebtN4gC",
        "outputId": "c5646872-f62b-4a21-d5a9-9b3c89c71e75"
      },
      "source": [
        "us_wildfire_clean = us_wildfire_clean.drop(columns=['stat_cause_descr'])\n",
        "classCount = us_wildfire.groupby('fire_size_class').count()[['Unnamed: 0.1']]\n",
        "classCount\n"
      ],
      "execution_count": 5,
      "outputs": [
        {
          "output_type": "execute_result",
          "data": {
            "text/html": [
              "<div>\n",
              "<style scoped>\n",
              "    .dataframe tbody tr th:only-of-type {\n",
              "        vertical-align: middle;\n",
              "    }\n",
              "\n",
              "    .dataframe tbody tr th {\n",
              "        vertical-align: top;\n",
              "    }\n",
              "\n",
              "    .dataframe thead th {\n",
              "        text-align: right;\n",
              "    }\n",
              "</style>\n",
              "<table border=\"1\" class=\"dataframe\">\n",
              "  <thead>\n",
              "    <tr style=\"text-align: right;\">\n",
              "      <th></th>\n",
              "      <th>Unnamed: 0.1</th>\n",
              "    </tr>\n",
              "    <tr>\n",
              "      <th>fire_size_class</th>\n",
              "      <th></th>\n",
              "    </tr>\n",
              "  </thead>\n",
              "  <tbody>\n",
              "    <tr>\n",
              "      <th>B</th>\n",
              "      <td>36522</td>\n",
              "    </tr>\n",
              "    <tr>\n",
              "      <th>C</th>\n",
              "      <td>10811</td>\n",
              "    </tr>\n",
              "    <tr>\n",
              "      <th>D</th>\n",
              "      <td>1394</td>\n",
              "    </tr>\n",
              "    <tr>\n",
              "      <th>E</th>\n",
              "      <td>700</td>\n",
              "    </tr>\n",
              "    <tr>\n",
              "      <th>F</th>\n",
              "      <td>1968</td>\n",
              "    </tr>\n",
              "    <tr>\n",
              "      <th>G</th>\n",
              "      <td>3972</td>\n",
              "    </tr>\n",
              "  </tbody>\n",
              "</table>\n",
              "</div>"
            ],
            "text/plain": [
              "                 Unnamed: 0.1\n",
              "fire_size_class              \n",
              "B                       36522\n",
              "C                       10811\n",
              "D                        1394\n",
              "E                         700\n",
              "F                        1968\n",
              "G                        3972"
            ]
          },
          "metadata": {
            "tags": []
          },
          "execution_count": 5
        }
      ]
    },
    {
      "cell_type": "code",
      "metadata": {
        "colab": {
          "base_uri": "https://localhost:8080/",
          "height": 224
        },
        "id": "Nkux-oAtob0P",
        "outputId": "9bdb5b7f-5478-4ee7-afe1-6f077af74668"
      },
      "source": [
        "us_wildfire_clean.tail()"
      ],
      "execution_count": 6,
      "outputs": [
        {
          "output_type": "execute_result",
          "data": {
            "text/html": [
              "<div>\n",
              "<style scoped>\n",
              "    .dataframe tbody tr th:only-of-type {\n",
              "        vertical-align: middle;\n",
              "    }\n",
              "\n",
              "    .dataframe tbody tr th {\n",
              "        vertical-align: top;\n",
              "    }\n",
              "\n",
              "    .dataframe thead th {\n",
              "        text-align: right;\n",
              "    }\n",
              "</style>\n",
              "<table border=\"1\" class=\"dataframe\">\n",
              "  <thead>\n",
              "    <tr style=\"text-align: right;\">\n",
              "      <th></th>\n",
              "      <th>fire_size</th>\n",
              "      <th>fire_size_class</th>\n",
              "      <th>latitude</th>\n",
              "      <th>longitude</th>\n",
              "      <th>Vegetation</th>\n",
              "      <th>Temp_pre_30</th>\n",
              "      <th>Temp_pre_15</th>\n",
              "      <th>Temp_pre_7</th>\n",
              "      <th>Temp_cont</th>\n",
              "      <th>Wind_pre_30</th>\n",
              "      <th>Wind_pre_15</th>\n",
              "      <th>Wind_pre_7</th>\n",
              "      <th>Wind_cont</th>\n",
              "      <th>Hum_pre_30</th>\n",
              "      <th>Hum_pre_15</th>\n",
              "      <th>Hum_pre_7</th>\n",
              "      <th>Hum_cont</th>\n",
              "      <th>Prec_pre_30</th>\n",
              "      <th>Prec_pre_15</th>\n",
              "      <th>Prec_pre_7</th>\n",
              "      <th>Prec_cont</th>\n",
              "      <th>remoteness</th>\n",
              "      <th>Fire_cause</th>\n",
              "    </tr>\n",
              "  </thead>\n",
              "  <tbody>\n",
              "    <tr>\n",
              "      <th>55362</th>\n",
              "      <td>6289.0</td>\n",
              "      <td>G</td>\n",
              "      <td>39.180000</td>\n",
              "      <td>-96.784167</td>\n",
              "      <td>0</td>\n",
              "      <td>67.497438</td>\n",
              "      <td>62.404308</td>\n",
              "      <td>66.054190</td>\n",
              "      <td>55.836183</td>\n",
              "      <td>3.259176</td>\n",
              "      <td>2.705398</td>\n",
              "      <td>3.196648</td>\n",
              "      <td>3.804803</td>\n",
              "      <td>65.671410</td>\n",
              "      <td>61.839572</td>\n",
              "      <td>54.625698</td>\n",
              "      <td>55.042092</td>\n",
              "      <td>35.4</td>\n",
              "      <td>8.2</td>\n",
              "      <td>0.0</td>\n",
              "      <td>249.0</td>\n",
              "      <td>0.331501</td>\n",
              "      <td>9</td>\n",
              "    </tr>\n",
              "    <tr>\n",
              "      <th>55363</th>\n",
              "      <td>70868.0</td>\n",
              "      <td>G</td>\n",
              "      <td>38.342719</td>\n",
              "      <td>-120.695967</td>\n",
              "      <td>0</td>\n",
              "      <td>30.200000</td>\n",
              "      <td>30.200000</td>\n",
              "      <td>30.200000</td>\n",
              "      <td>30.200000</td>\n",
              "      <td>-1.000000</td>\n",
              "      <td>-1.000000</td>\n",
              "      <td>-1.000000</td>\n",
              "      <td>-1.000000</td>\n",
              "      <td>-1.000000</td>\n",
              "      <td>-1.000000</td>\n",
              "      <td>-1.000000</td>\n",
              "      <td>-1.000000</td>\n",
              "      <td>-1.0</td>\n",
              "      <td>-1.0</td>\n",
              "      <td>-1.0</td>\n",
              "      <td>-1.0</td>\n",
              "      <td>0.124683</td>\n",
              "      <td>9</td>\n",
              "    </tr>\n",
              "    <tr>\n",
              "      <th>55364</th>\n",
              "      <td>5702.0</td>\n",
              "      <td>G</td>\n",
              "      <td>37.262607</td>\n",
              "      <td>-119.511139</td>\n",
              "      <td>0</td>\n",
              "      <td>83.165726</td>\n",
              "      <td>83.165726</td>\n",
              "      <td>82.700000</td>\n",
              "      <td>81.762921</td>\n",
              "      <td>2.649395</td>\n",
              "      <td>2.649395</td>\n",
              "      <td>2.667722</td>\n",
              "      <td>2.529158</td>\n",
              "      <td>43.755556</td>\n",
              "      <td>43.755556</td>\n",
              "      <td>44.443975</td>\n",
              "      <td>35.924406</td>\n",
              "      <td>0.0</td>\n",
              "      <td>0.0</td>\n",
              "      <td>0.0</td>\n",
              "      <td>0.0</td>\n",
              "      <td>0.097682</td>\n",
              "      <td>1</td>\n",
              "    </tr>\n",
              "    <tr>\n",
              "      <th>55365</th>\n",
              "      <td>3261.0</td>\n",
              "      <td>F</td>\n",
              "      <td>40.604300</td>\n",
              "      <td>-123.080450</td>\n",
              "      <td>15</td>\n",
              "      <td>30.200000</td>\n",
              "      <td>30.200000</td>\n",
              "      <td>30.200000</td>\n",
              "      <td>30.200000</td>\n",
              "      <td>-1.000000</td>\n",
              "      <td>-1.000000</td>\n",
              "      <td>-1.000000</td>\n",
              "      <td>-1.000000</td>\n",
              "      <td>-1.000000</td>\n",
              "      <td>-1.000000</td>\n",
              "      <td>-1.000000</td>\n",
              "      <td>-1.000000</td>\n",
              "      <td>-1.0</td>\n",
              "      <td>-1.0</td>\n",
              "      <td>-1.0</td>\n",
              "      <td>-1.0</td>\n",
              "      <td>0.178206</td>\n",
              "      <td>8</td>\n",
              "    </tr>\n",
              "    <tr>\n",
              "      <th>55366</th>\n",
              "      <td>76067.0</td>\n",
              "      <td>G</td>\n",
              "      <td>38.843988</td>\n",
              "      <td>-122.759707</td>\n",
              "      <td>0</td>\n",
              "      <td>70.862404</td>\n",
              "      <td>70.362500</td>\n",
              "      <td>71.533571</td>\n",
              "      <td>66.230390</td>\n",
              "      <td>1.795485</td>\n",
              "      <td>1.628065</td>\n",
              "      <td>1.036905</td>\n",
              "      <td>1.208073</td>\n",
              "      <td>50.521912</td>\n",
              "      <td>46.310627</td>\n",
              "      <td>37.178571</td>\n",
              "      <td>58.063802</td>\n",
              "      <td>0.3</td>\n",
              "      <td>0.3</td>\n",
              "      <td>0.0</td>\n",
              "      <td>18.8</td>\n",
              "      <td>0.167305</td>\n",
              "      <td>9</td>\n",
              "    </tr>\n",
              "  </tbody>\n",
              "</table>\n",
              "</div>"
            ],
            "text/plain": [
              "       fire_size fire_size_class   latitude  ...  Prec_cont  remoteness  Fire_cause\n",
              "55362     6289.0               G  39.180000  ...      249.0    0.331501           9\n",
              "55363    70868.0               G  38.342719  ...       -1.0    0.124683           9\n",
              "55364     5702.0               G  37.262607  ...        0.0    0.097682           1\n",
              "55365     3261.0               F  40.604300  ...       -1.0    0.178206           8\n",
              "55366    76067.0               G  38.843988  ...       18.8    0.167305           9\n",
              "\n",
              "[5 rows x 23 columns]"
            ]
          },
          "metadata": {
            "tags": []
          },
          "execution_count": 6
        }
      ]
    },
    {
      "cell_type": "code",
      "metadata": {
        "id": "ZgG3YeUzo00P",
        "colab": {
          "base_uri": "https://localhost:8080/"
        },
        "outputId": "c9afa167-b44a-44b0-bea8-c2beadbd8fc3"
      },
      "source": [
        "# Feature Selection\n",
        "# split the data in training and testing sets.\n",
        " \n",
        "trainSet, testSet = train_test_split(us_wildfire_clean, train_size = 0.80, stratify = us_wildfire_clean[\"fire_size_class\"])\n",
        "# featureCols = [\"fire_size\", \"latitude\", \"longitude\", \"Temp_pre_30\", \"Wind_pre_30\", \"Hum_pre_30\",\"Prec_pre_30\", \"remoteness\"]\n",
        "cols = ['latitude', 'longitude', 'Vegetation',\n",
        "       'Temp_pre_30', 'Temp_pre_15', 'Temp_pre_7', 'Temp_cont', 'Wind_pre_30',\n",
        "       'Wind_pre_15', 'Wind_pre_7', 'Wind_cont', 'Hum_pre_30', 'Hum_pre_15',\n",
        "       'Hum_pre_7', 'Hum_cont', 'Prec_pre_30', 'Prec_pre_15', 'Prec_pre_7',\n",
        "       'Prec_cont', 'remoteness', 'Fire_cause']\n",
        "\n",
        "X = trainSet[cols].values\n",
        "y_train = trainSet[[\"fire_size_class\"]].values.ravel()\n",
        "\n",
        "X1 = testSet[cols].values\n",
        "y_test = testSet[[\"fire_size_class\"]].values.ravel()\n",
        "\n",
        "print(y_test)"
      ],
      "execution_count": 7,
      "outputs": [
        {
          "output_type": "stream",
          "text": [
            "['B' 'B' 'C' ... 'B' 'B' 'B']\n"
          ],
          "name": "stdout"
        }
      ]
    },
    {
      "cell_type": "code",
      "metadata": {
        "id": "aL3CgMmbrrgu",
        "colab": {
          "base_uri": "https://localhost:8080/"
        },
        "outputId": "4d220e03-a315-47ea-e363-0ebb55f6c08c"
      },
      "source": [
        "fs = relief.ReliefF(k=30, n_features=10)\n",
        "fsRelief = fs.fit_transform(X, y_train)\n",
        "print(fs.w_)\n",
        "#X_train=fsRelief.transform(X)\n",
        "#X_test=fsRelief.transform(X1)\n",
        "#print(\"(No. of tuples, No. of Columns before ReliefF) : \"+str(featureDataSet.shape)+\n",
        "#     \"\\n(No. of tuples, No. of Columns after ReliefF) : \"+str(selectedFeatures.shape))\n"
      ],
      "execution_count": 8,
      "outputs": [
        {
          "output_type": "stream",
          "text": [
            "[424.34526073 424.34526073 424.34526073 424.34526073 424.34526073\n",
            " 424.34526073 424.34526073 424.34526073 424.34526073 424.34526073\n",
            " 424.34526073 424.34526073 424.34526073 424.34526073 424.34526073\n",
            " 424.34526073 424.34526073 424.34526073 424.34526073 424.34526073\n",
            " 424.34526073]\n"
          ],
          "name": "stdout"
        }
      ]
    },
    {
      "cell_type": "markdown",
      "metadata": {
        "id": "QA2j9ad9OIYV"
      },
      "source": [
        "#### Data Sampling\n",
        "Split the data into training set and testing set"
      ]
    },
    {
      "cell_type": "code",
      "metadata": {
        "colab": {
          "base_uri": "https://localhost:8080/"
        },
        "id": "j_-vTTZIOk44",
        "outputId": "ac925874-0ed5-4421-9099-b4876d84b9d5"
      },
      "source": [
        "trainSet, testSet = train_test_split(us_wildfire_clean, train_size = 0.80, stratify = us_wildfire_clean[\"fire_size_class\"])\n",
        "print(\"#### Data point per each class in whole dataset\")\n",
        "print(us_wildfire_clean.groupby([\"fire_size_class\"])[[\"fire_size_class\"]].count())\n",
        "print(\" \")\n",
        "print(\"### Data point per each class in training dataset\")\n",
        "print(trainSet.groupby([\"fire_size_class\"])[[\"fire_size_class\"]].count())\n",
        "print(\" \")\n",
        "print(\"### Data point per each class in test dataset\")\n",
        "print(testSet.groupby([\"fire_size_class\"])[[\"fire_size_class\"]].count())\n",
        "kfold = KFold(n_splits=10, random_state=None, shuffle=False)"
      ],
      "execution_count": 10,
      "outputs": [
        {
          "output_type": "stream",
          "text": [
            "#### Data point per each class in whole dataset\n",
            "                 fire_size_class\n",
            "fire_size_class                 \n",
            "B                          36522\n",
            "C                          10811\n",
            "D                           1394\n",
            "E                            700\n",
            "F                           1968\n",
            "G                           3972\n",
            " \n",
            "### Data point per each class in training dataset\n",
            "                 fire_size_class\n",
            "fire_size_class                 \n",
            "B                          29217\n",
            "C                           8649\n",
            "D                           1115\n",
            "E                            560\n",
            "F                           1574\n",
            "G                           3178\n",
            " \n",
            "### Data point per each class in test dataset\n",
            "                 fire_size_class\n",
            "fire_size_class                 \n",
            "B                           7305\n",
            "C                           2162\n",
            "D                            279\n",
            "E                            140\n",
            "F                            394\n",
            "G                            794\n"
          ],
          "name": "stdout"
        }
      ]
    },
    {
      "cell_type": "code",
      "metadata": {
        "id": "Dk_arN_APwO8"
      },
      "source": [
        "# Taken only weighted features from training and test set that too give greater correlations with target class\n",
        "selected_cols = [\"latitude\", \"longitude\", \"Temp_pre_30\", \"Wind_pre_30\", \"Hum_pre_30\",\"Prec_pre_30\", \"remoteness\"]\n",
        "X = trainSet[selected_cols].values\n",
        "y_train = trainSet[[\"fire_size_class\"]].values.ravel()\n",
        "\n",
        "X1 = testSet[selected_cols].values\n",
        "y_test = testSet[[\"fire_size_class\"]].values.ravel()\n",
        "\n",
        "# Data standardization\n",
        "sc = StandardScaler().fit(X)\n",
        "X_train = sc.transform(X)\n",
        "\n",
        "sc = StandardScaler().fit(X1)\n",
        "X_test = sc.transform(X1)\n"
      ],
      "execution_count": 19,
      "outputs": []
    },
    {
      "cell_type": "code",
      "metadata": {
        "colab": {
          "base_uri": "https://localhost:8080/"
        },
        "id": "dVexQalHPxbF",
        "outputId": "6917be22-2023-4ced-fa9b-3b8add798675"
      },
      "source": [
        "# Report Unique data points per size class of fire in the training set\n",
        "unique, count = np.unique(y_train, return_counts=True)\n",
        "Y_train_dict_value_count = { k:v for (k,v) in zip(unique, count)}\n",
        "Y_train_dict_value_count"
      ],
      "execution_count": 12,
      "outputs": [
        {
          "output_type": "execute_result",
          "data": {
            "text/plain": [
              "{'B': 29217, 'C': 8649, 'D': 1115, 'E': 560, 'F': 1574, 'G': 3178}"
            ]
          },
          "metadata": {
            "tags": []
          },
          "execution_count": 12
        }
      ]
    },
    {
      "cell_type": "code",
      "metadata": {
        "colab": {
          "base_uri": "https://localhost:8080/"
        },
        "id": "Iu0cOJ1UpVTs",
        "outputId": "0da93e51-ca8c-4b73-a5bb-c0278dbb207f"
      },
      "source": [
        "# Try SMOTE sampling on the data to remove target class imbalance\n",
        "from imblearn.over_sampling import SMOTE\n",
        "from imblearn.pipeline import make_pipeline\n",
        "\n",
        "sm = SMOTE(\"not majority\")\n",
        "x_train_res, y_train_res = sm.fit_sample(X_train, y_train)\n",
        "unique, count = np.unique(y_train_res, return_counts=True)\n",
        "y_train_smote_value_count = { k:v for (k,v) in zip(unique, count)}\n",
        "y_train_smote_value_count"
      ],
      "execution_count": null,
      "outputs": [
        {
          "output_type": "stream",
          "text": [
            "/usr/local/lib/python3.7/dist-packages/sklearn/utils/deprecation.py:87: FutureWarning: Function safe_indexing is deprecated; safe_indexing is deprecated in version 0.22 and will be removed in version 0.24.\n",
            "  warnings.warn(msg, category=FutureWarning)\n",
            "/usr/local/lib/python3.7/dist-packages/sklearn/utils/deprecation.py:87: FutureWarning: Function safe_indexing is deprecated; safe_indexing is deprecated in version 0.22 and will be removed in version 0.24.\n",
            "  warnings.warn(msg, category=FutureWarning)\n",
            "/usr/local/lib/python3.7/dist-packages/sklearn/utils/deprecation.py:87: FutureWarning: Function safe_indexing is deprecated; safe_indexing is deprecated in version 0.22 and will be removed in version 0.24.\n",
            "  warnings.warn(msg, category=FutureWarning)\n",
            "/usr/local/lib/python3.7/dist-packages/sklearn/utils/deprecation.py:87: FutureWarning: Function safe_indexing is deprecated; safe_indexing is deprecated in version 0.22 and will be removed in version 0.24.\n",
            "  warnings.warn(msg, category=FutureWarning)\n",
            "/usr/local/lib/python3.7/dist-packages/sklearn/utils/deprecation.py:87: FutureWarning: Function safe_indexing is deprecated; safe_indexing is deprecated in version 0.22 and will be removed in version 0.24.\n",
            "  warnings.warn(msg, category=FutureWarning)\n"
          ],
          "name": "stderr"
        },
        {
          "output_type": "execute_result",
          "data": {
            "text/plain": [
              "{'B': 29217, 'C': 29217, 'D': 29217, 'E': 29217, 'F': 29217, 'G': 29217}"
            ]
          },
          "metadata": {
            "tags": []
          },
          "execution_count": 25
        }
      ]
    },
    {
      "cell_type": "code",
      "metadata": {
        "colab": {
          "base_uri": "https://localhost:8080/",
          "height": 312
        },
        "id": "cgkgVW1grdYH",
        "outputId": "d47743f5-5013-46e5-bb36-781573742637"
      },
      "source": [
        "### Compute error rate and plot it\n",
        "error_rate = []\n",
        "for k in range(2,40,1):\n",
        "    knn_classifier = KNeighborsClassifier(n_neighbors=k)\n",
        "    knn_classifier.fit(X_train, y_train)\n",
        "    predictY = knn_classifier.predict(X_test)\n",
        "    error_rate.append(np.mean(predictY != y_test))\n",
        "\n",
        "ax = plt.gca()\n",
        "ax = plt.gca()\n",
        "plt.plot(range(2, 40, 1), error_rate, linestyle = \"dashed\", color = \"black\", marker = \"o\")\n",
        "plt.title(\"KNN vs. Error Rate\")\n",
        "plt.xlabel(\"K Nearest Neighbors\")\n",
        "plt.ylabel(\"Error Rate\")"
      ],
      "execution_count": null,
      "outputs": [
        {
          "output_type": "execute_result",
          "data": {
            "text/plain": [
              "Text(0, 0.5, 'Error Rate')"
            ]
          },
          "metadata": {
            "tags": []
          },
          "execution_count": 11
        },
        {
          "output_type": "display_data",
          "data": {
            "image/png": "[encoded data removed]",
            "text/plain": [
              "<Figure size 432x288 with 1 Axes>"
            ]
          },
          "metadata": {
            "tags": [],
            "needs_background": "light"
          }
        }
      ]
    },
    {
      "cell_type": "code",
      "metadata": {
        "colab": {
          "base_uri": "https://localhost:8080/"
        },
        "id": "mAmabWQzsbQ9",
        "outputId": "6e00ec62-84f7-4132-8d90-3dbd3cca5c15"
      },
      "source": [
        "### Implement KNN using optimal k-Value obtained from the graph (optimal value)\n",
        "knn_classifier = KNeighborsClassifier(n_neighbors = 33)\n",
        "knn_classifier.fit(X_train, y_train)\n",
        "results = cross_val_score(knn_classifier, X_train, y_train, cv=kfold) #Cross validation on training set\n",
        "print(results)"
      ],
      "execution_count": null,
      "outputs": [
        {
          "output_type": "stream",
          "text": [
            "[0.7214447  0.72099323 0.71693002 0.71731768 0.72612328 0.72047866\n",
            " 0.72115602 0.71054414 0.71370513 0.7272522 ]\n"
          ],
          "name": "stdout"
        }
      ]
    },
    {
      "cell_type": "code",
      "metadata": {
        "colab": {
          "base_uri": "https://localhost:8080/"
        },
        "id": "6-q1Sia6tGvx",
        "outputId": "4fa3ac2f-21b8-470f-9f82-134d576b778e"
      },
      "source": [
        "predict_y = knn_classifier.predict(X_test)\n",
        "cr = classification_report(y_test, predict_y)\n",
        "print(\"Classification Report KNN:\")\n",
        "print(cr)"
      ],
      "execution_count": null,
      "outputs": [
        {
          "output_type": "stream",
          "text": [
            "/usr/local/lib/python3.7/dist-packages/sklearn/metrics/_classification.py:1272: UndefinedMetricWarning: Precision and F-score are ill-defined and being set to 0.0 in labels with no predicted samples. Use `zero_division` parameter to control this behavior.\n",
            "  _warn_prf(average, modifier, msg_start, len(result))\n"
          ],
          "name": "stderr"
        },
        {
          "output_type": "stream",
          "text": [
            "Classification Report KNN:\n",
            "              precision    recall  f1-score   support\n",
            "\n",
            "           B       0.73      0.99      0.84      7305\n",
            "           C       0.38      0.02      0.05      2162\n",
            "           D       0.00      0.00      0.00       279\n",
            "           E       0.00      0.00      0.00       140\n",
            "           F       0.50      0.05      0.09       394\n",
            "           G       0.71      0.85      0.77       794\n",
            "\n",
            "    accuracy                           0.72     11074\n",
            "   macro avg       0.39      0.32      0.29     11074\n",
            "weighted avg       0.62      0.72      0.62     11074\n",
            "\n"
          ],
          "name": "stdout"
        }
      ]
    },
    {
      "cell_type": "code",
      "metadata": {
        "colab": {
          "base_uri": "https://localhost:8080/"
        },
        "id": "ZKeQkNCBlYHV",
        "outputId": "0ee05e70-4185-4727-fe62-6e42f81f707f"
      },
      "source": [
        "cm = confusion_matrix(y_test, predict_y)\n",
        "print(\"Confusion Matrix for KNN:\")\n",
        "print(cm)"
      ],
      "execution_count": null,
      "outputs": [
        {
          "output_type": "stream",
          "text": [
            "Confusion Matrix for KNN:\n",
            "[[7236   63    0    0    0    6]\n",
            " [2106   53    0    0    0    3]\n",
            " [ 270    9    0    0    0    0]\n",
            " [ 135    4    0    0    0    1]\n",
            " [ 107    5    0    0   20  262]\n",
            " [  93    7    0    0   20  674]]\n"
          ],
          "name": "stdout"
        }
      ]
    },
    {
      "cell_type": "markdown",
      "metadata": {
        "id": "4pA8xZlzMakb"
      },
      "source": [
        "##### Implement SVM Model"
      ]
    },
    {
      "cell_type": "code",
      "metadata": {
        "colab": {
          "base_uri": "https://localhost:8080/"
        },
        "id": "jERCix6ixiCw",
        "outputId": "192154ef-a55e-4cbf-e903-29e7780933d8"
      },
      "source": [
        "# SVM Model with default hyperparameters\n",
        "default_svm = SVC(kernel='rbf')\n",
        "kfold = KFold(n_splits=10, random_state=None, shuffle=False)\n",
        "results = cross_val_score(default_svm, X, y_train, cv=kfold)\n",
        "\n",
        "print(results)"
      ],
      "execution_count": 20,
      "outputs": [
        {
          "output_type": "stream",
          "text": [
            "[0.66659142 0.65643341 0.6765237  0.6671935  0.68119214 0.67238654\n",
            " 0.68096636 0.66222624 0.67238654 0.66854821]\n"
          ],
          "name": "stdout"
        }
      ]
    },
    {
      "cell_type": "code",
      "metadata": {
        "id": "7Al2vsVcy0Uf"
      },
      "source": [
        "default_svm.fit(X, y)\n",
        "s_predict = default_svm.predict(X1)\n",
        "cr = classification_report(y_test, s_predict)\n",
        "print(\"Classification Report for SVM (default):\")\n",
        "print(cr)"
      ],
      "execution_count": null,
      "outputs": []
    },
    {
      "cell_type": "code",
      "metadata": {
        "colab": {
          "base_uri": "https://localhost:8080/"
        },
        "id": "v7gyhidwMioi",
        "outputId": "46d5be5e-a2e1-4e10-fa82-3b686c965792"
      },
      "source": [
        "svm_classifier = SVC(kernel='rbf', C=1000, gamma=0.0001)\n",
        "# svm_classifier.fit(X_train,y_train)\n",
        "kfold = KFold(n_splits=10, random_state=42, shuffle=False)\n",
        "results = cross_val_score(svm_classifier, X_train, y_train, cv=kfold) #Cross validation on training set\n",
        "\n",
        "pd.set_option('display.max_rows', None)\n",
        "pd.set_option('display.max_columns', None)\n",
        "print (results) #array_output\n"
      ],
      "execution_count": null,
      "outputs": [
        {
          "output_type": "stream",
          "text": [
            "/usr/local/lib/python3.7/dist-packages/sklearn/model_selection/_split.py:296: FutureWarning: Setting a random_state has no effect since shuffle is False. This will raise an error in 0.24. You should leave random_state to its default (None), or set shuffle=True.\n",
            "  FutureWarning\n"
          ],
          "name": "stderr"
        },
        {
          "output_type": "stream",
          "text": [
            "[0.71264108 0.71422122 0.70835214 0.70602845 0.71054414 0.71393091\n",
            " 0.71415669 0.7037706  0.7037706  0.71347934]\n"
          ],
          "name": "stdout"
        }
      ]
    },
    {
      "cell_type": "code",
      "metadata": {
        "colab": {
          "base_uri": "https://localhost:8080/"
        },
        "id": "Az6uVwaHi_fq",
        "outputId": "edfcf2e0-1d06-4399-b0bf-722bbefc2cb3"
      },
      "source": [
        "svm_classifier.fit(X_train, y_train)\n",
        "svm_predict = svm_classifier.predict(X_test)\n",
        "cr = classification_report(y_test, svm_predict)\n",
        "print(\"Classification Report for SVM:\")\n",
        "print(cr)"
      ],
      "execution_count": null,
      "outputs": [
        {
          "output_type": "stream",
          "text": [
            "/usr/local/lib/python3.7/dist-packages/sklearn/metrics/_classification.py:1272: UndefinedMetricWarning: Precision and F-score are ill-defined and being set to 0.0 in labels with no predicted samples. Use `zero_division` parameter to control this behavior.\n",
            "  _warn_prf(average, modifier, msg_start, len(result))\n"
          ],
          "name": "stderr"
        },
        {
          "output_type": "stream",
          "text": [
            "Classification Report for SVM:\n",
            "              precision    recall  f1-score   support\n",
            "\n",
            "           B       0.71      1.00      0.83      7305\n",
            "           C       0.00      0.00      0.00      2162\n",
            "           D       0.00      0.00      0.00       279\n",
            "           E       0.00      0.00      0.00       140\n",
            "           F       0.00      0.00      0.00       394\n",
            "           G       0.73      0.70      0.71       794\n",
            "\n",
            "    accuracy                           0.71     11074\n",
            "   macro avg       0.24      0.28      0.26     11074\n",
            "weighted avg       0.52      0.71      0.60     11074\n",
            "\n"
          ],
          "name": "stdout"
        }
      ]
    },
    {
      "cell_type": "code",
      "metadata": {
        "colab": {
          "base_uri": "https://localhost:8080/"
        },
        "id": "Oww4eJByl2Bh",
        "outputId": "8eaa4e46-d898-4477-b342-8d334d0cd649"
      },
      "source": [
        "cm = confusion_matrix(y_test, svm_predict)\n",
        "print(\"Confusion Matrix for SVM:\")\n",
        "print(cm)"
      ],
      "execution_count": null,
      "outputs": [
        {
          "output_type": "stream",
          "text": [
            "Confusion Matrix for SVM:\n",
            "[[7305    0    0    0    0    0]\n",
            " [2162    0    0    0    0    0]\n",
            " [ 279    0    0    0    0    0]\n",
            " [ 140    0    0    0    0    0]\n",
            " [ 187    0    0    0    0  207]\n",
            " [ 239    0    0    0    0  555]]\n"
          ],
          "name": "stdout"
        }
      ]
    }
  ]
}